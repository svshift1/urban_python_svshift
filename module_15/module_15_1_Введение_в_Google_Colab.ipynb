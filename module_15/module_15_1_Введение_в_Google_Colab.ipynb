{
  "nbformat": 4,
  "nbformat_minor": 0,
  "metadata": {
    "colab": {
      "provenance": [],
      "authorship_tag": "ABX9TyPb2hBxbhZH+PzinrT+OxwE",
      "include_colab_link": true
    },
    "kernelspec": {
      "name": "python3",
      "display_name": "Python 3"
    },
    "language_info": {
      "name": "python"
    }
  },
  "cells": [
    {
      "cell_type": "markdown",
      "metadata": {
        "id": "view-in-github",
        "colab_type": "text"
      },
      "source": [
        "<a href=\"https://colab.research.google.com/github/svshift1/urban_python_svshift/blob/main/module_15/module_15_1_%D0%92%D0%B2%D0%B5%D0%B4%D0%B5%D0%BD%D0%B8%D0%B5_%D0%B2_Google_Colab.ipynb\" target=\"_parent\"><img src=\"https://colab.research.google.com/assets/colab-badge.svg\" alt=\"Open In Colab\"/></a>"
      ]
    },
    {
      "cell_type": "markdown",
      "source": [
        "<h1>Введение в Google Colab.</h1>\n",
        "Google Colab позволяет совместно работать над документами Jupiter Notebook. За бесплатно предоставляет доступ к одному вычислителю NVidia. Из настольных приложений больше всего напоминает VS Code с установленными соответсвующими плагинами. Умеет взаимодействовать с github  "
      ],
      "metadata": {
        "id": "6aj1sLueZuvL"
      }
    },
    {
      "cell_type": "code",
      "execution_count": null,
      "metadata": {
        "id": "Y46krnjJZelW"
      },
      "outputs": [],
      "source": []
    },
    {
      "cell_type": "markdown",
      "source": [],
      "metadata": {
        "id": "zkZS7aBmZtFy"
      }
    }
  ]
}